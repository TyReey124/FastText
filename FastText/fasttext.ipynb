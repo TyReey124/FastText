{
 "cells": [
  {
   "cell_type": "code",
   "execution_count": null,
   "metadata": {},
   "outputs": [],
   "source": [
    "# this part of code for downloading the fasttext modal into the folder \"./fasttext-model\"\n",
    "\n",
    "import requests\n",
    "import certifi\n",
    "import gzip\n",
    "import shutil\n",
    "import os\n",
    "\n",
    "# URL for the Russian fasttext model\n",
    "url = \"https://dl.fbaipublicfiles.com/fasttext/vectors-crawl/cc.ru.300.bin.gz\"\n",
    "\n",
    "# Step 1: Download the file with SSL verification\n",
    "response = requests.get(url, verify=certifi.where())\n",
    "with open(\"cc.ru.300.bin.gz\", \"wb\") as file:\n",
    "    file.write(response.content)\n",
    "\n",
    "# Step 2: Unzip the file\n",
    "with gzip.open(\"cc.ru.300.bin.gz\", \"rb\") as f_in:\n",
    "    with open(\"cc.ru.300.bin\", \"wb\") as f_out:\n",
    "        shutil.copyfileobj(f_in, f_out)\n",
    "\n",
    "# Step 3: Create the directory if it doesn't exist\n",
    "os.makedirs(\"./fasttext-model\", exist_ok=True)\n",
    "\n",
    "# Step 4: Move the unzipped file to the directory\n",
    "shutil.move(\"cc.ru.300.bin\", \"./fasttext-model/cc.ru.300.bin\")\n",
    "\n",
    "# Step 5: Remove the gzipped file\n",
    "os.remove(\"cc.ru.300.bin.gz\")"
   ]
  },
  {
   "cell_type": "code",
   "execution_count": null,
   "metadata": {},
   "outputs": [],
   "source": [
    "import fasttext\n",
    "import numpy as np\n",
    "from sklearn.metrics.pairwise import cosine_similarity\n",
    "import json\n",
    "import nltk\n",
    "from nltk.tokenize import word_tokenize\n",
    "from nltk.corpus import stopwords\n",
    "import pymorphy3\n",
    "import os"
   ]
  },
  {
   "cell_type": "code",
   "execution_count": 2,
   "metadata": {},
   "outputs": [
    {
     "name": "stderr",
     "output_type": "stream",
     "text": [
      "[nltk_data] Error loading punkt: <urlopen error [SSL:\n",
      "[nltk_data]     CERTIFICATE_VERIFY_FAILED] certificate verify failed:\n",
      "[nltk_data]     unable to get local issuer certificate (_ssl.c:1000)>\n",
      "[nltk_data] Error loading stopwords: <urlopen error [SSL:\n",
      "[nltk_data]     CERTIFICATE_VERIFY_FAILED] certificate verify failed:\n",
      "[nltk_data]     unable to get local issuer certificate (_ssl.c:1000)>\n"
     ]
    }
   ],
   "source": [
    "# Загрузка необходимых ресурсов\n",
    "nltk.data.path.append(os.path.abspath(\"./nltk_data\"))\n",
    "nltk.download(\"punkt\", download_dir=\"./nltk_data\")\n",
    "nltk.download(\"stopwords\", download_dir=\"./nltk_data\")\n",
    "\n",
    "# Инициализация pymorphy3\n",
    "morph = pymorphy3.MorphAnalyzer()\n",
    "\n",
    "# Получение списка русских стоп-слов\n",
    "stop_words = set(stopwords.words('russian'))"
   ]
  },
  {
   "cell_type": "code",
   "execution_count": 3,
   "metadata": {},
   "outputs": [
    {
     "name": "stderr",
     "output_type": "stream",
     "text": [
      "Warning : `load_model` does not return WordVectorModel or SupervisedModel any more, but a `FastText` object which is very similar.\n"
     ]
    }
   ],
   "source": [
    "# Загрузка модели fasttext\n",
    "model = fasttext.load_model(\"./fasttext-model/cc.ru.300.bin\")"
   ]
  },
  {
   "cell_type": "code",
   "execution_count": 4,
   "metadata": {},
   "outputs": [],
   "source": [
    "# Открываем файл JSON и загружаем данные\n",
    "with open('./data-base/dataset.json', 'r', encoding='utf-8') as file:\n",
    "    dataset_json = json.load(file)\n",
    "\n",
    "# Извлекаем все значения 'title' в массив\n",
    "questions = [item['title'] for item in dataset_json['data']]"
   ]
  },
  {
   "cell_type": "code",
   "execution_count": 5,
   "metadata": {},
   "outputs": [],
   "source": [
    "def lemmatize_text(text):\n",
    "    text = text.lower()\n",
    "    words = word_tokenize(text, language=\"russian\")\n",
    "    words = [word for word in words if word.isalnum() and word not in stop_words]\n",
    "    lemmatized_words = [morph.parse(word)[0].normal_form for word in words]\n",
    "    return ' '.join(lemmatized_words)"
   ]
  },
  {
   "cell_type": "code",
   "execution_count": 6,
   "metadata": {},
   "outputs": [],
   "source": [
    "lemmatized_questions = [{'question': question, 'lemmatized_question': lemmatize_text(question)} for question in questions]\n",
    "questions = [item[\"lemmatized_question\"] for item in lemmatized_questions]"
   ]
  },
  {
   "cell_type": "code",
   "execution_count": 7,
   "metadata": {},
   "outputs": [],
   "source": [
    "def sentence_to_vector(sentence, model):\n",
    "    words = sentence.split()\n",
    "    word_vectors = [model.get_word_vector(word) for word in words if word in model]\n",
    "    return np.mean(word_vectors, axis=0) if word_vectors else np.zeros(model.get_dimension())"
   ]
  },
  {
   "cell_type": "code",
   "execution_count": 8,
   "metadata": {},
   "outputs": [],
   "source": [
    "# Открываем файл JSON с векторами и загружаем данные\n",
    "with open('./fasttext-model/dataset-vectors/fasttext_weights.json', 'r', encoding='utf-8') as file:\n",
    "    vector_data = json.load(file)\n",
    "\n",
    "question_vectors = np.array(vector_data)"
   ]
  },
  {
   "cell_type": "code",
   "execution_count": 9,
   "metadata": {},
   "outputs": [],
   "source": [
    "def find_top_similar_questions(new_question, question_vectors, questions, model,):\n",
    "    new_vector = sentence_to_vector(new_question, model)\n",
    "    similarities = cosine_similarity([new_vector], question_vectors)[0]\n",
    "    top_indices = np.argsort(similarities)[::-1]\n",
    "    top_questions = []\n",
    "    for idx in top_indices:\n",
    "        similarity = similarities[idx]\n",
    "        if similarity >= 0.5:\n",
    "            if top_questions and (top_questions[0][1] - similarity) > 0.01:\n",
    "                break\n",
    "            top_questions.append((questions[idx], similarity))\n",
    "        if len(top_questions) >= 4:\n",
    "            break\n",
    "    return top_questions"
   ]
  },
  {
   "cell_type": "code",
   "execution_count": 10,
   "metadata": {},
   "outputs": [],
   "source": [
    "def find_original_question(similar_question, dataset):\n",
    "    for item in dataset['data']:\n",
    "        if similar_question == lemmatize_text(item['title']):\n",
    "            return item\n",
    "    return None"
   ]
  },
  {
   "cell_type": "code",
   "execution_count": 11,
   "metadata": {},
   "outputs": [],
   "source": [
    "def get_answers_with_details(top_similar_questions, dataset):\n",
    "    answers_with_details = []\n",
    "    for question, similarity in top_similar_questions:\n",
    "        original_question_data = find_original_question(question, dataset)\n",
    "        if original_question_data:\n",
    "            answer_detail = {\n",
    "                \"title\": original_question_data[\"title\"],\n",
    "                \"description\": original_question_data[\"description\"],\n",
    "                \"url\": original_question_data[\"url\"]\n",
    "            }\n",
    "            answers_with_details.append(answer_detail)\n",
    "    return answers_with_details"
   ]
  },
  {
   "cell_type": "code",
   "execution_count": 20,
   "metadata": {},
   "outputs": [],
   "source": [
    "user_question = input()\n",
    "user_question = lemmatize_text(user_question)\n",
    "top_similar_questions = find_top_similar_questions(user_question, question_vectors, questions, model)"
   ]
  },
  {
   "cell_type": "code",
   "execution_count": 21,
   "metadata": {},
   "outputs": [],
   "source": [
    "answers_with_details = get_answers_with_details(top_similar_questions, dataset_json)\n",
    "\n",
    "prompt = answers_with_details if answers_with_details else [{\"answer\": \"Извините, я не могу найти ответ на ваш вопрос.\"}]"
   ]
  },
  {
   "cell_type": "code",
   "execution_count": 22,
   "metadata": {},
   "outputs": [],
   "source": [
    "def save_json(data, file_path):\n",
    "    with open(file_path, 'w', encoding='utf-8') as file:\n",
    "        json.dump(data, file, ensure_ascii=False, indent=4)"
   ]
  },
  {
   "cell_type": "code",
   "execution_count": 23,
   "metadata": {},
   "outputs": [],
   "source": [
    "json_file_path = './querry/prompt.json'\n",
    "save_json(prompt, json_file_path)"
   ]
  }
 ],
 "metadata": {
  "kernelspec": {
   "display_name": "Python 3",
   "language": "python",
   "name": "python3"
  },
  "language_info": {
   "codemirror_mode": {
    "name": "ipython",
    "version": 3
   },
   "file_extension": ".py",
   "mimetype": "text/x-python",
   "name": "python",
   "nbconvert_exporter": "python",
   "pygments_lexer": "ipython3",
   "version": "3.12.0"
  }
 },
 "nbformat": 4,
 "nbformat_minor": 2
}
